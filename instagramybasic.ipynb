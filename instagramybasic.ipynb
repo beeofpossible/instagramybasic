{
  "nbformat": 4,
  "nbformat_minor": 0,
  "metadata": {
    "colab": {
      "provenance": [],
      "collapsed_sections": [],
      "authorship_tag": "ABX9TyP8HduusHx34u35gS0d7sil",
      "include_colab_link": true
    },
    "kernelspec": {
      "name": "python3",
      "display_name": "Python 3"
    },
    "language_info": {
      "name": "python"
    }
  },
  "cells": [
    {
      "cell_type": "markdown",
      "metadata": {
        "id": "view-in-github",
        "colab_type": "text"
      },
      "source": [
        "<a href=\"https://colab.research.google.com/github/beeofpossible/instagramybasic/blob/main/instagramybasic.ipynb\" target=\"_parent\"><img src=\"https://colab.research.google.com/assets/colab-badge.svg\" alt=\"Open In Colab\"/></a>"
      ]
    },
    {
      "cell_type": "code",
      "execution_count": null,
      "metadata": {
        "colab": {
          "base_uri": "https://localhost:8080/"
        },
        "id": "0QSlx1dsiX75",
        "outputId": "5e4d3e2c-a206-4f83-afa1-e26fabb1e639"
      },
      "outputs": [
        {
          "output_type": "stream",
          "name": "stdout",
          "text": [
            "Collecting instagramy\n",
            "  Downloading instagramy-4.4-py3-none-any.whl (20 kB)\n",
            "Installing collected packages: instagramy\n",
            "Successfully installed instagramy-4.4\n"
          ]
        }
      ],
      "source": [
        "!pip install instagramy"
      ]
    },
    {
      "cell_type": "code",
      "source": [
        "from instagramy import InstagramUser\n",
        "from instagramy import * \n",
        "\n",
        "id = 'YOUR_ID'\n",
        "\n",
        "# Connecting the profile \n",
        "user = InstagramUser(\"hm\", sessionid= id) \n",
        "\n",
        "print(\"----------------\", user.fullname, \"-------------------\")\n",
        "print(\"User verified? :\", user.is_verified) \n",
        "print(\"number of followers :\", user.number_of_followers) \n",
        "print(\"biography of the user: \", user.biography) \n",
        "print(user.posts)"
      ],
      "metadata": {
        "colab": {
          "base_uri": "https://localhost:8080/"
        },
        "id": "xzz-nJBTi7RI",
        "outputId": "423f26a4-2664-4007-8ac0-602331acdddc"
      },
      "execution_count": null,
      "outputs": [
        {
          "output_type": "stream",
          "name": "stdout",
          "text": [
            "---------------- H&M -------------------\n",
            "User verified? : True\n",
            "number of followers : 38222787\n",
            "biography of the user:  ✨Positive vibes only. Wear.Care.Recycle. \n",
            "❤️ @hm_man @hm_kids @hmbeauty @hmhome\n",
            "⚡️We love your style! Mention @hm & #HMxME for a chance to be featured\n",
            "[Post(likes=4171, comments=14, caption='Photo shared by H&M on February 12, 2022 tagging @thejuliama. May be an image of standing.', is_video=False, timestamp=1644686594, location=None, shortcode='CZ4q9zLqZpH', post_url='https://www.instagram.com/p/CZ4q9zLqZpH/', display_url='https://scontent-iad3-2.cdninstagram.com/v/t51.2885-15/e35/p1080x1080/273886377_277761051094891_4542365970469723137_n.jpg?_nc_ht=scontent-iad3-2.cdninstagram.com&_nc_cat=1&_nc_ohc=kONPhFchuAgAX_7Bgsf&edm=ABfd0MgBAAAA&ccb=7-4&oh=00_AT-dYcDuFsedbtQj0ygZWEze3kIwqvkIZ43TnWuZLTsKmQ&oe=620E6A6E&_nc_sid=7bff83', post_source='https://scontent-iad3-2.cdninstagram.com/v/t51.2885-15/e35/p1080x1080/273886377_277761051094891_4542365970469723137_n.jpg?_nc_ht=scontent-iad3-2.cdninstagram.com&_nc_cat=1&_nc_ohc=kONPhFchuAgAX_7Bgsf&edm=ABfd0MgBAAAA&ccb=7-4&oh=00_AT-dYcDuFsedbtQj0ygZWEze3kIwqvkIZ43TnWuZLTsKmQ&oe=620E6A6E&_nc_sid=7bff83', taken_at_timestamp=datetime.datetime(2022, 2, 12, 17, 23, 14)), Post(likes=27212, comments=89, caption='Photo by H&M on February 12, 2022. May be an image of indoor.', is_video=False, timestamp=1644667663, location=None, shortcode='CZ4G27PKMYa', post_url='https://www.instagram.com/p/CZ4G27PKMYa/', display_url='https://scontent-iad3-2.cdninstagram.com/v/t51.2885-15/e35/p1080x1080/273726232_634061567858742_3040580578930572870_n.jpg?_nc_ht=scontent-iad3-2.cdninstagram.com&_nc_cat=1&_nc_ohc=oBi2aSRUvHwAX9DmTWJ&edm=ABfd0MgBAAAA&ccb=7-4&oh=00_AT8BSVKijLyodtJlLT6nlIAox_psW1kKdalmJ8ULDh_fWw&oe=620F91D2&_nc_sid=7bff83', post_source='https://scontent-iad3-2.cdninstagram.com/v/t51.2885-15/e35/p1080x1080/273726232_634061567858742_3040580578930572870_n.jpg?_nc_ht=scontent-iad3-2.cdninstagram.com&_nc_cat=1&_nc_ohc=oBi2aSRUvHwAX9DmTWJ&edm=ABfd0MgBAAAA&ccb=7-4&oh=00_AT8BSVKijLyodtJlLT6nlIAox_psW1kKdalmJ8ULDh_fWw&oe=620F91D2&_nc_sid=7bff83', taken_at_timestamp=datetime.datetime(2022, 2, 12, 12, 7, 43)), Post(likes=14587, comments=52, caption='Photo by H&M on February 12, 2022.', is_video=False, timestamp=1644653060, location=None, shortcode='CZ3rAQLKztj', post_url='https://www.instagram.com/p/CZ3rAQLKztj/', display_url='https://scontent-iad3-2.cdninstagram.com/v/t51.2885-15/e35/p1080x1080/273586811_1537700883289992_5232403616294004436_n.jpg?_nc_ht=scontent-iad3-2.cdninstagram.com&_nc_cat=1&_nc_ohc=c_FNjQMOP2gAX_NKGOZ&edm=ABfd0MgBAAAA&ccb=7-4&oh=00_AT-NsZ6v3DcwC95yxPclMoZW0aAfzsdX6HyChLjsUgZ2dA&oe=620F6882&_nc_sid=7bff83', post_source='https://scontent-iad3-2.cdninstagram.com/v/t51.2885-15/e35/p1080x1080/273586811_1537700883289992_5232403616294004436_n.jpg?_nc_ht=scontent-iad3-2.cdninstagram.com&_nc_cat=1&_nc_ohc=c_FNjQMOP2gAX_NKGOZ&edm=ABfd0MgBAAAA&ccb=7-4&oh=00_AT-NsZ6v3DcwC95yxPclMoZW0aAfzsdX6HyChLjsUgZ2dA&oe=620F6882&_nc_sid=7bff83', taken_at_timestamp=datetime.datetime(2022, 2, 12, 8, 4, 20)), Post(likes=29427, comments=125, caption='Photo shared by H&M on February 11, 2022 tagging @jiyabasantanii. May be an image of 1 person and high-heeled shoes.', is_video=False, timestamp=1644600713, location=None, shortcode='CZ2HKQwqqY8', post_url='https://www.instagram.com/p/CZ2HKQwqqY8/', display_url='https://scontent-iad3-2.cdninstagram.com/v/t51.2885-15/e35/p1080x1080/273789054_287301306833736_8534891509308268780_n.jpg?_nc_ht=scontent-iad3-2.cdninstagram.com&_nc_cat=1&_nc_ohc=xy1CTiAJCCcAX86ura4&edm=ABfd0MgBAAAA&ccb=7-4&oh=00_AT99wSMcI-Rs4z4BEw-Pse8mVJsgfRdYokokY0rtlzaTtg&oe=620FD894&_nc_sid=7bff83', post_source='https://scontent-iad3-2.cdninstagram.com/v/t51.2885-15/e35/p1080x1080/273789054_287301306833736_8534891509308268780_n.jpg?_nc_ht=scontent-iad3-2.cdninstagram.com&_nc_cat=1&_nc_ohc=xy1CTiAJCCcAX86ura4&edm=ABfd0MgBAAAA&ccb=7-4&oh=00_AT99wSMcI-Rs4z4BEw-Pse8mVJsgfRdYokokY0rtlzaTtg&oe=620FD894&_nc_sid=7bff83', taken_at_timestamp=datetime.datetime(2022, 2, 11, 17, 31, 53)), Post(likes=19465, comments=81, caption=None, is_video=False, timestamp=1644589855, location=None, shortcode='CZ1yc0xK0iO', post_url='https://www.instagram.com/p/CZ1yc0xK0iO/', display_url='https://scontent-iad3-2.cdninstagram.com/v/t51.2885-15/e35/273636148_1569125166821160_1642314393209858651_n.jpg?_nc_ht=scontent-iad3-2.cdninstagram.com&_nc_cat=1&_nc_ohc=nPWqyaQ9Fe4AX8eHzlJ&tn=71gEIbi_3t3bJ-lr&edm=ABfd0MgBAAAA&ccb=7-4&oh=00_AT_rtKGnv-C5_KemHYyPOvuOU73NJpW8nyXuS5ev7L9llA&oe=620A4C04&_nc_sid=7bff83', post_source='https://scontent-iad3-2.cdninstagram.com/v/t51.2885-15/e35/273636148_1569125166821160_1642314393209858651_n.jpg?_nc_ht=scontent-iad3-2.cdninstagram.com&_nc_cat=1&_nc_ohc=nPWqyaQ9Fe4AX8eHzlJ&tn=71gEIbi_3t3bJ-lr&edm=ABfd0MgBAAAA&ccb=7-4&oh=00_AT_rtKGnv-C5_KemHYyPOvuOU73NJpW8nyXuS5ev7L9llA&oe=620A4C04&_nc_sid=7bff83', taken_at_timestamp=datetime.datetime(2022, 2, 11, 14, 30, 55)), Post(likes=20160, comments=71, caption=\"Photo shared by H&M on February 11, 2022 tagging @bazzibatul. May be an image of 1 person, flower, indoor and text that says '#HMxME CINTAS EXIT @bazzibatul'.\", is_video=False, timestamp=1644575912, location=None, shortcode='CZ1X2z8qit_', post_url='https://www.instagram.com/p/CZ1X2z8qit_/', display_url='https://scontent-iad3-2.cdninstagram.com/v/t51.2885-15/e35/p1080x1080/273626223_411638294096089_7495877251263782988_n.jpg?_nc_ht=scontent-iad3-2.cdninstagram.com&_nc_cat=1&_nc_ohc=-F8hxf5N4xgAX_n4NYf&edm=ABfd0MgBAAAA&ccb=7-4&oh=00_AT8E4JOzNlQ-s_uyv1nf4-1n7hgRpoXBfZFk2jtTx6803Q&oe=620EC311&_nc_sid=7bff83', post_source='https://scontent-iad3-2.cdninstagram.com/v/t51.2885-15/e35/p1080x1080/273626223_411638294096089_7495877251263782988_n.jpg?_nc_ht=scontent-iad3-2.cdninstagram.com&_nc_cat=1&_nc_ohc=-F8hxf5N4xgAX_n4NYf&edm=ABfd0MgBAAAA&ccb=7-4&oh=00_AT8E4JOzNlQ-s_uyv1nf4-1n7hgRpoXBfZFk2jtTx6803Q&oe=620EC311&_nc_sid=7bff83', taken_at_timestamp=datetime.datetime(2022, 2, 11, 10, 38, 32)), Post(likes=17251, comments=100, caption='Photo shared by H&M on February 10, 2022 tagging @_modabymaria_. May be an image of 1 person and standing.', is_video=False, timestamp=1644515025, location=None, shortcode='CZzjuVKK12p', post_url='https://www.instagram.com/p/CZzjuVKK12p/', display_url='https://scontent-iad3-2.cdninstagram.com/v/t51.2885-15/e35/p1080x1080/273557600_622713405461603_772162307739494822_n.jpg?_nc_ht=scontent-iad3-2.cdninstagram.com&_nc_cat=1&_nc_ohc=Ab0JFjM6qzMAX9qGfFu&tn=71gEIbi_3t3bJ-lr&edm=ABfd0MgBAAAA&ccb=7-4&oh=00_AT9bH8SV81wPsdWJ9ZgL5GqDvi9TPfeW3W55Yzq4jAlAFg&oe=620ECF9F&_nc_sid=7bff83', post_source='https://scontent-iad3-2.cdninstagram.com/v/t51.2885-15/e35/p1080x1080/273557600_622713405461603_772162307739494822_n.jpg?_nc_ht=scontent-iad3-2.cdninstagram.com&_nc_cat=1&_nc_ohc=Ab0JFjM6qzMAX9qGfFu&tn=71gEIbi_3t3bJ-lr&edm=ABfd0MgBAAAA&ccb=7-4&oh=00_AT9bH8SV81wPsdWJ9ZgL5GqDvi9TPfeW3W55Yzq4jAlAFg&oe=620ECF9F&_nc_sid=7bff83', taken_at_timestamp=datetime.datetime(2022, 2, 10, 17, 43, 45)), Post(likes=90531, comments=868, caption='Photo by H&M on February 10, 2022. May be an image of footwear.', is_video=False, timestamp=1644495129, location=None, shortcode='CZy9xmxKO2e', post_url='https://www.instagram.com/p/CZy9xmxKO2e/', display_url='https://scontent-iad3-2.cdninstagram.com/v/t51.2885-15/e35/p1080x1080/273754268_4361270400640057_2251036320789294019_n.jpg?_nc_ht=scontent-iad3-2.cdninstagram.com&_nc_cat=1&_nc_ohc=t0Qg5TEHt4kAX-VBOh6&edm=ABfd0MgBAAAA&ccb=7-4&oh=00_AT-rKu8tfg7bfXYzH4Rg4r_7WrNVXATSh_tLelTMXWOk2g&oe=620FAA2D&_nc_sid=7bff83', post_source='https://scontent-iad3-2.cdninstagram.com/v/t51.2885-15/e35/p1080x1080/273754268_4361270400640057_2251036320789294019_n.jpg?_nc_ht=scontent-iad3-2.cdninstagram.com&_nc_cat=1&_nc_ohc=t0Qg5TEHt4kAX-VBOh6&edm=ABfd0MgBAAAA&ccb=7-4&oh=00_AT-rKu8tfg7bfXYzH4Rg4r_7WrNVXATSh_tLelTMXWOk2g&oe=620FAA2D&_nc_sid=7bff83', taken_at_timestamp=datetime.datetime(2022, 2, 10, 12, 12, 9)), Post(likes=19922, comments=51, caption='Photo by H&M on February 10, 2022. May be an image of 2 people and people standing.', is_video=False, timestamp=1644481603, location=None, shortcode='CZyj-gIKDhg', post_url='https://www.instagram.com/p/CZyj-gIKDhg/', display_url='https://scontent-iad3-2.cdninstagram.com/v/t51.2885-15/e35/p1080x1080/273642561_124189250137426_1175102194589239233_n.jpg?_nc_ht=scontent-iad3-2.cdninstagram.com&_nc_cat=1&_nc_ohc=pxvwoVz30-UAX926iUp&edm=ABfd0MgBAAAA&ccb=7-4&oh=00_AT8WcVzbxajZdUfLDQrRdYGSzBa7UW6niqhnn3hXXNUbyg&oe=620E5B35&_nc_sid=7bff83', post_source='https://scontent-iad3-2.cdninstagram.com/v/t51.2885-15/e35/p1080x1080/273642561_124189250137426_1175102194589239233_n.jpg?_nc_ht=scontent-iad3-2.cdninstagram.com&_nc_cat=1&_nc_ohc=pxvwoVz30-UAX926iUp&edm=ABfd0MgBAAAA&ccb=7-4&oh=00_AT8WcVzbxajZdUfLDQrRdYGSzBa7UW6niqhnn3hXXNUbyg&oe=620E5B35&_nc_sid=7bff83', taken_at_timestamp=datetime.datetime(2022, 2, 10, 8, 26, 43)), Post(likes=23447, comments=91, caption='Photo by H&M on February 09, 2022. May be an image of 1 person.', is_video=False, timestamp=1644426904, location=None, shortcode='CZw7pV-KyKl', post_url='https://www.instagram.com/p/CZw7pV-KyKl/', display_url='https://scontent-iad3-2.cdninstagram.com/v/t51.2885-15/e35/p1080x1080/273532145_726558425000237_7850049174203914974_n.jpg?_nc_ht=scontent-iad3-2.cdninstagram.com&_nc_cat=1&_nc_ohc=c99fQXo8yFwAX9PxvbK&edm=ABfd0MgBAAAA&ccb=7-4&oh=00_AT_lZYq-wW9Xe4pXISU_CCsSUA4Ql1C1bqCHVMqSNDVWJA&oe=620EEABB&_nc_sid=7bff83', post_source='https://scontent-iad3-2.cdninstagram.com/v/t51.2885-15/e35/p1080x1080/273532145_726558425000237_7850049174203914974_n.jpg?_nc_ht=scontent-iad3-2.cdninstagram.com&_nc_cat=1&_nc_ohc=c99fQXo8yFwAX9PxvbK&edm=ABfd0MgBAAAA&ccb=7-4&oh=00_AT_lZYq-wW9Xe4pXISU_CCsSUA4Ql1C1bqCHVMqSNDVWJA&oe=620EEABB&_nc_sid=7bff83', taken_at_timestamp=datetime.datetime(2022, 2, 9, 17, 15, 4)), Post(likes=58989, comments=333, caption='Photo by H&M on February 09, 2022.', is_video=False, timestamp=1644408911, location=None, shortcode='CZwZU_vqfso', post_url='https://www.instagram.com/p/CZwZU_vqfso/', display_url='https://scontent-iad3-2.cdninstagram.com/v/t51.2885-15/e35/p1080x1080/273518677_426735019241289_8235393549312500196_n.jpg?_nc_ht=scontent-iad3-2.cdninstagram.com&_nc_cat=109&_nc_ohc=N_Bw7xGUFeIAX_2Crk7&edm=ABfd0MgBAAAA&ccb=7-4&oh=00_AT9yAvBsSMpQomdFyhzlLA76g5x1N8OZB7SKxSvgakVl5g&oe=620E9352&_nc_sid=7bff83', post_source='https://scontent-iad3-2.cdninstagram.com/v/t51.2885-15/e35/p1080x1080/273518677_426735019241289_8235393549312500196_n.jpg?_nc_ht=scontent-iad3-2.cdninstagram.com&_nc_cat=109&_nc_ohc=N_Bw7xGUFeIAX_2Crk7&edm=ABfd0MgBAAAA&ccb=7-4&oh=00_AT9yAvBsSMpQomdFyhzlLA76g5x1N8OZB7SKxSvgakVl5g&oe=620E9352&_nc_sid=7bff83', taken_at_timestamp=datetime.datetime(2022, 2, 9, 12, 15, 11)), Post(likes=31597, comments=97, caption='Photo shared by H&M on February 09, 2022 tagging @maeva.demoura. May be an image of 1 person and standing.', is_video=False, timestamp=1644395045, location=None, shortcode='CZv-4RZK2H0', post_url='https://www.instagram.com/p/CZv-4RZK2H0/', display_url='https://scontent-iad3-2.cdninstagram.com/v/t51.2885-15/e35/p1080x1080/273463775_1305706363243355_9171125386489854896_n.jpg?_nc_ht=scontent-iad3-2.cdninstagram.com&_nc_cat=1&_nc_ohc=QohmIgcIup8AX_vXodJ&edm=ABfd0MgBAAAA&ccb=7-4&oh=00_AT83ds-0iJoeY9AKP7nxXpckaaZT8354QUFxRHQUmhq5pw&oe=620F51B2&_nc_sid=7bff83', post_source='https://scontent-iad3-2.cdninstagram.com/v/t51.2885-15/e35/p1080x1080/273463775_1305706363243355_9171125386489854896_n.jpg?_nc_ht=scontent-iad3-2.cdninstagram.com&_nc_cat=1&_nc_ohc=QohmIgcIup8AX_vXodJ&edm=ABfd0MgBAAAA&ccb=7-4&oh=00_AT83ds-0iJoeY9AKP7nxXpckaaZT8354QUFxRHQUmhq5pw&oe=620F51B2&_nc_sid=7bff83', taken_at_timestamp=datetime.datetime(2022, 2, 9, 8, 24, 5))]\n"
          ]
        }
      ]
    },
    {
      "cell_type": "code",
      "source": [
        "import pandas as pd \n",
        "post = user.posts\n",
        "print(post, '\\n')\n",
        "#check vidéos et suppression"
      ],
      "metadata": {
        "id": "Yz52qniSdRWH",
        "colab": {
          "base_uri": "https://localhost:8080/"
        },
        "outputId": "a3f81fe1-0633-4c55-fea4-31d2dc931b97"
      },
      "execution_count": null,
      "outputs": [
        {
          "output_type": "stream",
          "name": "stdout",
          "text": [
            "[Post(likes=4171, comments=14, caption='Photo shared by H&M on February 12, 2022 tagging @thejuliama. May be an image of standing.', is_video=False, timestamp=1644686594, location=None, shortcode='CZ4q9zLqZpH', post_url='https://www.instagram.com/p/CZ4q9zLqZpH/', display_url='https://scontent-iad3-2.cdninstagram.com/v/t51.2885-15/e35/p1080x1080/273886377_277761051094891_4542365970469723137_n.jpg?_nc_ht=scontent-iad3-2.cdninstagram.com&_nc_cat=1&_nc_ohc=kONPhFchuAgAX_7Bgsf&edm=ABfd0MgBAAAA&ccb=7-4&oh=00_AT-dYcDuFsedbtQj0ygZWEze3kIwqvkIZ43TnWuZLTsKmQ&oe=620E6A6E&_nc_sid=7bff83', post_source='https://scontent-iad3-2.cdninstagram.com/v/t51.2885-15/e35/p1080x1080/273886377_277761051094891_4542365970469723137_n.jpg?_nc_ht=scontent-iad3-2.cdninstagram.com&_nc_cat=1&_nc_ohc=kONPhFchuAgAX_7Bgsf&edm=ABfd0MgBAAAA&ccb=7-4&oh=00_AT-dYcDuFsedbtQj0ygZWEze3kIwqvkIZ43TnWuZLTsKmQ&oe=620E6A6E&_nc_sid=7bff83', taken_at_timestamp=datetime.datetime(2022, 2, 12, 17, 23, 14)), Post(likes=27212, comments=89, caption='Photo by H&M on February 12, 2022. May be an image of indoor.', is_video=False, timestamp=1644667663, location=None, shortcode='CZ4G27PKMYa', post_url='https://www.instagram.com/p/CZ4G27PKMYa/', display_url='https://scontent-iad3-2.cdninstagram.com/v/t51.2885-15/e35/p1080x1080/273726232_634061567858742_3040580578930572870_n.jpg?_nc_ht=scontent-iad3-2.cdninstagram.com&_nc_cat=1&_nc_ohc=oBi2aSRUvHwAX9DmTWJ&edm=ABfd0MgBAAAA&ccb=7-4&oh=00_AT8BSVKijLyodtJlLT6nlIAox_psW1kKdalmJ8ULDh_fWw&oe=620F91D2&_nc_sid=7bff83', post_source='https://scontent-iad3-2.cdninstagram.com/v/t51.2885-15/e35/p1080x1080/273726232_634061567858742_3040580578930572870_n.jpg?_nc_ht=scontent-iad3-2.cdninstagram.com&_nc_cat=1&_nc_ohc=oBi2aSRUvHwAX9DmTWJ&edm=ABfd0MgBAAAA&ccb=7-4&oh=00_AT8BSVKijLyodtJlLT6nlIAox_psW1kKdalmJ8ULDh_fWw&oe=620F91D2&_nc_sid=7bff83', taken_at_timestamp=datetime.datetime(2022, 2, 12, 12, 7, 43)), Post(likes=14587, comments=52, caption='Photo by H&M on February 12, 2022.', is_video=False, timestamp=1644653060, location=None, shortcode='CZ3rAQLKztj', post_url='https://www.instagram.com/p/CZ3rAQLKztj/', display_url='https://scontent-iad3-2.cdninstagram.com/v/t51.2885-15/e35/p1080x1080/273586811_1537700883289992_5232403616294004436_n.jpg?_nc_ht=scontent-iad3-2.cdninstagram.com&_nc_cat=1&_nc_ohc=c_FNjQMOP2gAX_NKGOZ&edm=ABfd0MgBAAAA&ccb=7-4&oh=00_AT-NsZ6v3DcwC95yxPclMoZW0aAfzsdX6HyChLjsUgZ2dA&oe=620F6882&_nc_sid=7bff83', post_source='https://scontent-iad3-2.cdninstagram.com/v/t51.2885-15/e35/p1080x1080/273586811_1537700883289992_5232403616294004436_n.jpg?_nc_ht=scontent-iad3-2.cdninstagram.com&_nc_cat=1&_nc_ohc=c_FNjQMOP2gAX_NKGOZ&edm=ABfd0MgBAAAA&ccb=7-4&oh=00_AT-NsZ6v3DcwC95yxPclMoZW0aAfzsdX6HyChLjsUgZ2dA&oe=620F6882&_nc_sid=7bff83', taken_at_timestamp=datetime.datetime(2022, 2, 12, 8, 4, 20)), Post(likes=29427, comments=125, caption='Photo shared by H&M on February 11, 2022 tagging @jiyabasantanii. May be an image of 1 person and high-heeled shoes.', is_video=False, timestamp=1644600713, location=None, shortcode='CZ2HKQwqqY8', post_url='https://www.instagram.com/p/CZ2HKQwqqY8/', display_url='https://scontent-iad3-2.cdninstagram.com/v/t51.2885-15/e35/p1080x1080/273789054_287301306833736_8534891509308268780_n.jpg?_nc_ht=scontent-iad3-2.cdninstagram.com&_nc_cat=1&_nc_ohc=xy1CTiAJCCcAX86ura4&edm=ABfd0MgBAAAA&ccb=7-4&oh=00_AT99wSMcI-Rs4z4BEw-Pse8mVJsgfRdYokokY0rtlzaTtg&oe=620FD894&_nc_sid=7bff83', post_source='https://scontent-iad3-2.cdninstagram.com/v/t51.2885-15/e35/p1080x1080/273789054_287301306833736_8534891509308268780_n.jpg?_nc_ht=scontent-iad3-2.cdninstagram.com&_nc_cat=1&_nc_ohc=xy1CTiAJCCcAX86ura4&edm=ABfd0MgBAAAA&ccb=7-4&oh=00_AT99wSMcI-Rs4z4BEw-Pse8mVJsgfRdYokokY0rtlzaTtg&oe=620FD894&_nc_sid=7bff83', taken_at_timestamp=datetime.datetime(2022, 2, 11, 17, 31, 53)), Post(likes=19465, comments=81, caption=None, is_video=False, timestamp=1644589855, location=None, shortcode='CZ1yc0xK0iO', post_url='https://www.instagram.com/p/CZ1yc0xK0iO/', display_url='https://scontent-iad3-2.cdninstagram.com/v/t51.2885-15/e35/273636148_1569125166821160_1642314393209858651_n.jpg?_nc_ht=scontent-iad3-2.cdninstagram.com&_nc_cat=1&_nc_ohc=nPWqyaQ9Fe4AX8eHzlJ&tn=71gEIbi_3t3bJ-lr&edm=ABfd0MgBAAAA&ccb=7-4&oh=00_AT_rtKGnv-C5_KemHYyPOvuOU73NJpW8nyXuS5ev7L9llA&oe=620A4C04&_nc_sid=7bff83', post_source='https://scontent-iad3-2.cdninstagram.com/v/t51.2885-15/e35/273636148_1569125166821160_1642314393209858651_n.jpg?_nc_ht=scontent-iad3-2.cdninstagram.com&_nc_cat=1&_nc_ohc=nPWqyaQ9Fe4AX8eHzlJ&tn=71gEIbi_3t3bJ-lr&edm=ABfd0MgBAAAA&ccb=7-4&oh=00_AT_rtKGnv-C5_KemHYyPOvuOU73NJpW8nyXuS5ev7L9llA&oe=620A4C04&_nc_sid=7bff83', taken_at_timestamp=datetime.datetime(2022, 2, 11, 14, 30, 55)), Post(likes=20160, comments=71, caption=\"Photo shared by H&M on February 11, 2022 tagging @bazzibatul. May be an image of 1 person, flower, indoor and text that says '#HMxME CINTAS EXIT @bazzibatul'.\", is_video=False, timestamp=1644575912, location=None, shortcode='CZ1X2z8qit_', post_url='https://www.instagram.com/p/CZ1X2z8qit_/', display_url='https://scontent-iad3-2.cdninstagram.com/v/t51.2885-15/e35/p1080x1080/273626223_411638294096089_7495877251263782988_n.jpg?_nc_ht=scontent-iad3-2.cdninstagram.com&_nc_cat=1&_nc_ohc=-F8hxf5N4xgAX_n4NYf&edm=ABfd0MgBAAAA&ccb=7-4&oh=00_AT8E4JOzNlQ-s_uyv1nf4-1n7hgRpoXBfZFk2jtTx6803Q&oe=620EC311&_nc_sid=7bff83', post_source='https://scontent-iad3-2.cdninstagram.com/v/t51.2885-15/e35/p1080x1080/273626223_411638294096089_7495877251263782988_n.jpg?_nc_ht=scontent-iad3-2.cdninstagram.com&_nc_cat=1&_nc_ohc=-F8hxf5N4xgAX_n4NYf&edm=ABfd0MgBAAAA&ccb=7-4&oh=00_AT8E4JOzNlQ-s_uyv1nf4-1n7hgRpoXBfZFk2jtTx6803Q&oe=620EC311&_nc_sid=7bff83', taken_at_timestamp=datetime.datetime(2022, 2, 11, 10, 38, 32)), Post(likes=17251, comments=100, caption='Photo shared by H&M on February 10, 2022 tagging @_modabymaria_. May be an image of 1 person and standing.', is_video=False, timestamp=1644515025, location=None, shortcode='CZzjuVKK12p', post_url='https://www.instagram.com/p/CZzjuVKK12p/', display_url='https://scontent-iad3-2.cdninstagram.com/v/t51.2885-15/e35/p1080x1080/273557600_622713405461603_772162307739494822_n.jpg?_nc_ht=scontent-iad3-2.cdninstagram.com&_nc_cat=1&_nc_ohc=Ab0JFjM6qzMAX9qGfFu&tn=71gEIbi_3t3bJ-lr&edm=ABfd0MgBAAAA&ccb=7-4&oh=00_AT9bH8SV81wPsdWJ9ZgL5GqDvi9TPfeW3W55Yzq4jAlAFg&oe=620ECF9F&_nc_sid=7bff83', post_source='https://scontent-iad3-2.cdninstagram.com/v/t51.2885-15/e35/p1080x1080/273557600_622713405461603_772162307739494822_n.jpg?_nc_ht=scontent-iad3-2.cdninstagram.com&_nc_cat=1&_nc_ohc=Ab0JFjM6qzMAX9qGfFu&tn=71gEIbi_3t3bJ-lr&edm=ABfd0MgBAAAA&ccb=7-4&oh=00_AT9bH8SV81wPsdWJ9ZgL5GqDvi9TPfeW3W55Yzq4jAlAFg&oe=620ECF9F&_nc_sid=7bff83', taken_at_timestamp=datetime.datetime(2022, 2, 10, 17, 43, 45)), Post(likes=90531, comments=868, caption='Photo by H&M on February 10, 2022. May be an image of footwear.', is_video=False, timestamp=1644495129, location=None, shortcode='CZy9xmxKO2e', post_url='https://www.instagram.com/p/CZy9xmxKO2e/', display_url='https://scontent-iad3-2.cdninstagram.com/v/t51.2885-15/e35/p1080x1080/273754268_4361270400640057_2251036320789294019_n.jpg?_nc_ht=scontent-iad3-2.cdninstagram.com&_nc_cat=1&_nc_ohc=t0Qg5TEHt4kAX-VBOh6&edm=ABfd0MgBAAAA&ccb=7-4&oh=00_AT-rKu8tfg7bfXYzH4Rg4r_7WrNVXATSh_tLelTMXWOk2g&oe=620FAA2D&_nc_sid=7bff83', post_source='https://scontent-iad3-2.cdninstagram.com/v/t51.2885-15/e35/p1080x1080/273754268_4361270400640057_2251036320789294019_n.jpg?_nc_ht=scontent-iad3-2.cdninstagram.com&_nc_cat=1&_nc_ohc=t0Qg5TEHt4kAX-VBOh6&edm=ABfd0MgBAAAA&ccb=7-4&oh=00_AT-rKu8tfg7bfXYzH4Rg4r_7WrNVXATSh_tLelTMXWOk2g&oe=620FAA2D&_nc_sid=7bff83', taken_at_timestamp=datetime.datetime(2022, 2, 10, 12, 12, 9)), Post(likes=19922, comments=51, caption='Photo by H&M on February 10, 2022. May be an image of 2 people and people standing.', is_video=False, timestamp=1644481603, location=None, shortcode='CZyj-gIKDhg', post_url='https://www.instagram.com/p/CZyj-gIKDhg/', display_url='https://scontent-iad3-2.cdninstagram.com/v/t51.2885-15/e35/p1080x1080/273642561_124189250137426_1175102194589239233_n.jpg?_nc_ht=scontent-iad3-2.cdninstagram.com&_nc_cat=1&_nc_ohc=pxvwoVz30-UAX926iUp&edm=ABfd0MgBAAAA&ccb=7-4&oh=00_AT8WcVzbxajZdUfLDQrRdYGSzBa7UW6niqhnn3hXXNUbyg&oe=620E5B35&_nc_sid=7bff83', post_source='https://scontent-iad3-2.cdninstagram.com/v/t51.2885-15/e35/p1080x1080/273642561_124189250137426_1175102194589239233_n.jpg?_nc_ht=scontent-iad3-2.cdninstagram.com&_nc_cat=1&_nc_ohc=pxvwoVz30-UAX926iUp&edm=ABfd0MgBAAAA&ccb=7-4&oh=00_AT8WcVzbxajZdUfLDQrRdYGSzBa7UW6niqhnn3hXXNUbyg&oe=620E5B35&_nc_sid=7bff83', taken_at_timestamp=datetime.datetime(2022, 2, 10, 8, 26, 43)), Post(likes=23447, comments=91, caption='Photo by H&M on February 09, 2022. May be an image of 1 person.', is_video=False, timestamp=1644426904, location=None, shortcode='CZw7pV-KyKl', post_url='https://www.instagram.com/p/CZw7pV-KyKl/', display_url='https://scontent-iad3-2.cdninstagram.com/v/t51.2885-15/e35/p1080x1080/273532145_726558425000237_7850049174203914974_n.jpg?_nc_ht=scontent-iad3-2.cdninstagram.com&_nc_cat=1&_nc_ohc=c99fQXo8yFwAX9PxvbK&edm=ABfd0MgBAAAA&ccb=7-4&oh=00_AT_lZYq-wW9Xe4pXISU_CCsSUA4Ql1C1bqCHVMqSNDVWJA&oe=620EEABB&_nc_sid=7bff83', post_source='https://scontent-iad3-2.cdninstagram.com/v/t51.2885-15/e35/p1080x1080/273532145_726558425000237_7850049174203914974_n.jpg?_nc_ht=scontent-iad3-2.cdninstagram.com&_nc_cat=1&_nc_ohc=c99fQXo8yFwAX9PxvbK&edm=ABfd0MgBAAAA&ccb=7-4&oh=00_AT_lZYq-wW9Xe4pXISU_CCsSUA4Ql1C1bqCHVMqSNDVWJA&oe=620EEABB&_nc_sid=7bff83', taken_at_timestamp=datetime.datetime(2022, 2, 9, 17, 15, 4)), Post(likes=58989, comments=333, caption='Photo by H&M on February 09, 2022.', is_video=False, timestamp=1644408911, location=None, shortcode='CZwZU_vqfso', post_url='https://www.instagram.com/p/CZwZU_vqfso/', display_url='https://scontent-iad3-2.cdninstagram.com/v/t51.2885-15/e35/p1080x1080/273518677_426735019241289_8235393549312500196_n.jpg?_nc_ht=scontent-iad3-2.cdninstagram.com&_nc_cat=109&_nc_ohc=N_Bw7xGUFeIAX_2Crk7&edm=ABfd0MgBAAAA&ccb=7-4&oh=00_AT9yAvBsSMpQomdFyhzlLA76g5x1N8OZB7SKxSvgakVl5g&oe=620E9352&_nc_sid=7bff83', post_source='https://scontent-iad3-2.cdninstagram.com/v/t51.2885-15/e35/p1080x1080/273518677_426735019241289_8235393549312500196_n.jpg?_nc_ht=scontent-iad3-2.cdninstagram.com&_nc_cat=109&_nc_ohc=N_Bw7xGUFeIAX_2Crk7&edm=ABfd0MgBAAAA&ccb=7-4&oh=00_AT9yAvBsSMpQomdFyhzlLA76g5x1N8OZB7SKxSvgakVl5g&oe=620E9352&_nc_sid=7bff83', taken_at_timestamp=datetime.datetime(2022, 2, 9, 12, 15, 11)), Post(likes=31597, comments=97, caption='Photo shared by H&M on February 09, 2022 tagging @maeva.demoura. May be an image of 1 person and standing.', is_video=False, timestamp=1644395045, location=None, shortcode='CZv-4RZK2H0', post_url='https://www.instagram.com/p/CZv-4RZK2H0/', display_url='https://scontent-iad3-2.cdninstagram.com/v/t51.2885-15/e35/p1080x1080/273463775_1305706363243355_9171125386489854896_n.jpg?_nc_ht=scontent-iad3-2.cdninstagram.com&_nc_cat=1&_nc_ohc=QohmIgcIup8AX_vXodJ&edm=ABfd0MgBAAAA&ccb=7-4&oh=00_AT83ds-0iJoeY9AKP7nxXpckaaZT8354QUFxRHQUmhq5pw&oe=620F51B2&_nc_sid=7bff83', post_source='https://scontent-iad3-2.cdninstagram.com/v/t51.2885-15/e35/p1080x1080/273463775_1305706363243355_9171125386489854896_n.jpg?_nc_ht=scontent-iad3-2.cdninstagram.com&_nc_cat=1&_nc_ohc=QohmIgcIup8AX_vXodJ&edm=ABfd0MgBAAAA&ccb=7-4&oh=00_AT83ds-0iJoeY9AKP7nxXpckaaZT8354QUFxRHQUmhq5pw&oe=620F51B2&_nc_sid=7bff83', taken_at_timestamp=datetime.datetime(2022, 2, 9, 8, 24, 5))] \n",
            "\n"
          ]
        }
      ]
    },
    {
      "cell_type": "code",
      "source": [
        "post2 = pd.DataFrame(post)\n",
        "Data = post2[\"post_url\"]\n",
        "Likes = post2[\"likes\"]\n",
        "Comments = post2['comments']\n",
        "Date= pd.to_datetime(post2['taken_at_timestamp'], format=\"%m/%d/%Y, %H:%M:%S\")"
      ],
      "metadata": {
        "id": "10C3mPpwdHri"
      },
      "execution_count": null,
      "outputs": []
    },
    {
      "cell_type": "code",
      "source": [
        "df = {\"Lien\" : Data, \"Nombre_de_likes\": Likes, \"Nombre_de_commentaires\" : Comments, \"Date\": Date}\n",
        "data = pd.DataFrame(data = df)\n",
        "data.sort_values(by = 'Nombre_de_likes', ascending = False)"
      ],
      "metadata": {
        "colab": {
          "base_uri": "https://localhost:8080/",
          "height": 426
        },
        "id": "6jDhcPmyjIn8",
        "outputId": "9c743c3d-0775-4ae8-8ed8-dd8e50ec60cc"
      },
      "execution_count": null,
      "outputs": [
        {
          "output_type": "execute_result",
          "data": {
            "text/html": [
              "\n",
              "  <div id=\"df-e666c0a7-f5b9-40cf-926c-d64eb128136c\">\n",
              "    <div class=\"colab-df-container\">\n",
              "      <div>\n",
              "<style scoped>\n",
              "    .dataframe tbody tr th:only-of-type {\n",
              "        vertical-align: middle;\n",
              "    }\n",
              "\n",
              "    .dataframe tbody tr th {\n",
              "        vertical-align: top;\n",
              "    }\n",
              "\n",
              "    .dataframe thead th {\n",
              "        text-align: right;\n",
              "    }\n",
              "</style>\n",
              "<table border=\"1\" class=\"dataframe\">\n",
              "  <thead>\n",
              "    <tr style=\"text-align: right;\">\n",
              "      <th></th>\n",
              "      <th>Lien</th>\n",
              "      <th>Nombre_de_likes</th>\n",
              "      <th>Nombre_de_commentaires</th>\n",
              "      <th>Date</th>\n",
              "    </tr>\n",
              "  </thead>\n",
              "  <tbody>\n",
              "    <tr>\n",
              "      <th>7</th>\n",
              "      <td>https://www.instagram.com/p/CZy9xmxKO2e/</td>\n",
              "      <td>90531</td>\n",
              "      <td>868</td>\n",
              "      <td>2022-02-10 12:12:09</td>\n",
              "    </tr>\n",
              "    <tr>\n",
              "      <th>10</th>\n",
              "      <td>https://www.instagram.com/p/CZwZU_vqfso/</td>\n",
              "      <td>58989</td>\n",
              "      <td>333</td>\n",
              "      <td>2022-02-09 12:15:11</td>\n",
              "    </tr>\n",
              "    <tr>\n",
              "      <th>11</th>\n",
              "      <td>https://www.instagram.com/p/CZv-4RZK2H0/</td>\n",
              "      <td>31597</td>\n",
              "      <td>97</td>\n",
              "      <td>2022-02-09 08:24:05</td>\n",
              "    </tr>\n",
              "    <tr>\n",
              "      <th>3</th>\n",
              "      <td>https://www.instagram.com/p/CZ2HKQwqqY8/</td>\n",
              "      <td>29427</td>\n",
              "      <td>125</td>\n",
              "      <td>2022-02-11 17:31:53</td>\n",
              "    </tr>\n",
              "    <tr>\n",
              "      <th>1</th>\n",
              "      <td>https://www.instagram.com/p/CZ4G27PKMYa/</td>\n",
              "      <td>27212</td>\n",
              "      <td>89</td>\n",
              "      <td>2022-02-12 12:07:43</td>\n",
              "    </tr>\n",
              "    <tr>\n",
              "      <th>9</th>\n",
              "      <td>https://www.instagram.com/p/CZw7pV-KyKl/</td>\n",
              "      <td>23447</td>\n",
              "      <td>91</td>\n",
              "      <td>2022-02-09 17:15:04</td>\n",
              "    </tr>\n",
              "    <tr>\n",
              "      <th>5</th>\n",
              "      <td>https://www.instagram.com/p/CZ1X2z8qit_/</td>\n",
              "      <td>20160</td>\n",
              "      <td>71</td>\n",
              "      <td>2022-02-11 10:38:32</td>\n",
              "    </tr>\n",
              "    <tr>\n",
              "      <th>8</th>\n",
              "      <td>https://www.instagram.com/p/CZyj-gIKDhg/</td>\n",
              "      <td>19922</td>\n",
              "      <td>51</td>\n",
              "      <td>2022-02-10 08:26:43</td>\n",
              "    </tr>\n",
              "    <tr>\n",
              "      <th>4</th>\n",
              "      <td>https://www.instagram.com/p/CZ1yc0xK0iO/</td>\n",
              "      <td>19465</td>\n",
              "      <td>81</td>\n",
              "      <td>2022-02-11 14:30:55</td>\n",
              "    </tr>\n",
              "    <tr>\n",
              "      <th>6</th>\n",
              "      <td>https://www.instagram.com/p/CZzjuVKK12p/</td>\n",
              "      <td>17251</td>\n",
              "      <td>100</td>\n",
              "      <td>2022-02-10 17:43:45</td>\n",
              "    </tr>\n",
              "    <tr>\n",
              "      <th>2</th>\n",
              "      <td>https://www.instagram.com/p/CZ3rAQLKztj/</td>\n",
              "      <td>14587</td>\n",
              "      <td>52</td>\n",
              "      <td>2022-02-12 08:04:20</td>\n",
              "    </tr>\n",
              "    <tr>\n",
              "      <th>0</th>\n",
              "      <td>https://www.instagram.com/p/CZ4q9zLqZpH/</td>\n",
              "      <td>4171</td>\n",
              "      <td>14</td>\n",
              "      <td>2022-02-12 17:23:14</td>\n",
              "    </tr>\n",
              "  </tbody>\n",
              "</table>\n",
              "</div>\n",
              "      <button class=\"colab-df-convert\" onclick=\"convertToInteractive('df-e666c0a7-f5b9-40cf-926c-d64eb128136c')\"\n",
              "              title=\"Convert this dataframe to an interactive table.\"\n",
              "              style=\"display:none;\">\n",
              "        \n",
              "  <svg xmlns=\"http://www.w3.org/2000/svg\" height=\"24px\"viewBox=\"0 0 24 24\"\n",
              "       width=\"24px\">\n",
              "    <path d=\"M0 0h24v24H0V0z\" fill=\"none\"/>\n",
              "    <path d=\"M18.56 5.44l.94 2.06.94-2.06 2.06-.94-2.06-.94-.94-2.06-.94 2.06-2.06.94zm-11 1L8.5 8.5l.94-2.06 2.06-.94-2.06-.94L8.5 2.5l-.94 2.06-2.06.94zm10 10l.94 2.06.94-2.06 2.06-.94-2.06-.94-.94-2.06-.94 2.06-2.06.94z\"/><path d=\"M17.41 7.96l-1.37-1.37c-.4-.4-.92-.59-1.43-.59-.52 0-1.04.2-1.43.59L10.3 9.45l-7.72 7.72c-.78.78-.78 2.05 0 2.83L4 21.41c.39.39.9.59 1.41.59.51 0 1.02-.2 1.41-.59l7.78-7.78 2.81-2.81c.8-.78.8-2.07 0-2.86zM5.41 20L4 18.59l7.72-7.72 1.47 1.35L5.41 20z\"/>\n",
              "  </svg>\n",
              "      </button>\n",
              "      \n",
              "  <style>\n",
              "    .colab-df-container {\n",
              "      display:flex;\n",
              "      flex-wrap:wrap;\n",
              "      gap: 12px;\n",
              "    }\n",
              "\n",
              "    .colab-df-convert {\n",
              "      background-color: #E8F0FE;\n",
              "      border: none;\n",
              "      border-radius: 50%;\n",
              "      cursor: pointer;\n",
              "      display: none;\n",
              "      fill: #1967D2;\n",
              "      height: 32px;\n",
              "      padding: 0 0 0 0;\n",
              "      width: 32px;\n",
              "    }\n",
              "\n",
              "    .colab-df-convert:hover {\n",
              "      background-color: #E2EBFA;\n",
              "      box-shadow: 0px 1px 2px rgba(60, 64, 67, 0.3), 0px 1px 3px 1px rgba(60, 64, 67, 0.15);\n",
              "      fill: #174EA6;\n",
              "    }\n",
              "\n",
              "    [theme=dark] .colab-df-convert {\n",
              "      background-color: #3B4455;\n",
              "      fill: #D2E3FC;\n",
              "    }\n",
              "\n",
              "    [theme=dark] .colab-df-convert:hover {\n",
              "      background-color: #434B5C;\n",
              "      box-shadow: 0px 1px 3px 1px rgba(0, 0, 0, 0.15);\n",
              "      filter: drop-shadow(0px 1px 2px rgba(0, 0, 0, 0.3));\n",
              "      fill: #FFFFFF;\n",
              "    }\n",
              "  </style>\n",
              "\n",
              "      <script>\n",
              "        const buttonEl =\n",
              "          document.querySelector('#df-e666c0a7-f5b9-40cf-926c-d64eb128136c button.colab-df-convert');\n",
              "        buttonEl.style.display =\n",
              "          google.colab.kernel.accessAllowed ? 'block' : 'none';\n",
              "\n",
              "        async function convertToInteractive(key) {\n",
              "          const element = document.querySelector('#df-e666c0a7-f5b9-40cf-926c-d64eb128136c');\n",
              "          const dataTable =\n",
              "            await google.colab.kernel.invokeFunction('convertToInteractive',\n",
              "                                                     [key], {});\n",
              "          if (!dataTable) return;\n",
              "\n",
              "          const docLinkHtml = 'Like what you see? Visit the ' +\n",
              "            '<a target=\"_blank\" href=https://colab.research.google.com/notebooks/data_table.ipynb>data table notebook</a>'\n",
              "            + ' to learn more about interactive tables.';\n",
              "          element.innerHTML = '';\n",
              "          dataTable['output_type'] = 'display_data';\n",
              "          await google.colab.output.renderOutput(dataTable, element);\n",
              "          const docLink = document.createElement('div');\n",
              "          docLink.innerHTML = docLinkHtml;\n",
              "          element.appendChild(docLink);\n",
              "        }\n",
              "      </script>\n",
              "    </div>\n",
              "  </div>\n",
              "  "
            ],
            "text/plain": [
              "                                        Lien  ...                Date\n",
              "7   https://www.instagram.com/p/CZy9xmxKO2e/  ... 2022-02-10 12:12:09\n",
              "10  https://www.instagram.com/p/CZwZU_vqfso/  ... 2022-02-09 12:15:11\n",
              "11  https://www.instagram.com/p/CZv-4RZK2H0/  ... 2022-02-09 08:24:05\n",
              "3   https://www.instagram.com/p/CZ2HKQwqqY8/  ... 2022-02-11 17:31:53\n",
              "1   https://www.instagram.com/p/CZ4G27PKMYa/  ... 2022-02-12 12:07:43\n",
              "9   https://www.instagram.com/p/CZw7pV-KyKl/  ... 2022-02-09 17:15:04\n",
              "5   https://www.instagram.com/p/CZ1X2z8qit_/  ... 2022-02-11 10:38:32\n",
              "8   https://www.instagram.com/p/CZyj-gIKDhg/  ... 2022-02-10 08:26:43\n",
              "4   https://www.instagram.com/p/CZ1yc0xK0iO/  ... 2022-02-11 14:30:55\n",
              "6   https://www.instagram.com/p/CZzjuVKK12p/  ... 2022-02-10 17:43:45\n",
              "2   https://www.instagram.com/p/CZ3rAQLKztj/  ... 2022-02-12 08:04:20\n",
              "0   https://www.instagram.com/p/CZ4q9zLqZpH/  ... 2022-02-12 17:23:14\n",
              "\n",
              "[12 rows x 4 columns]"
            ]
          },
          "metadata": {},
          "execution_count": 6
        }
      ]
    },
    {
      "cell_type": "code",
      "source": [
        "import plotly.express as px\n",
        "\n",
        "df = data.sort_values(by = 'Date', ascending = True)\n",
        "fig = px.line(df, x=\"Date\", y=\"Nombre_de_likes\", title='Nombre de likes')\n",
        "fig.show()"
      ],
      "metadata": {
        "colab": {
          "base_uri": "https://localhost:8080/",
          "height": 542
        },
        "id": "1r8mOSq-jeT7",
        "outputId": "64f07292-5dec-4b24-bf3a-6452ec3ff78d"
      },
      "execution_count": null,
      "outputs": [
        {
          "output_type": "display_data",
          "data": {
            "text/html": [
              "<html>\n",
              "<head><meta charset=\"utf-8\" /></head>\n",
              "<body>\n",
              "    <div>            <script src=\"https://cdnjs.cloudflare.com/ajax/libs/mathjax/2.7.5/MathJax.js?config=TeX-AMS-MML_SVG\"></script><script type=\"text/javascript\">if (window.MathJax) {MathJax.Hub.Config({SVG: {font: \"STIX-Web\"}});}</script>                <script type=\"text/javascript\">window.PlotlyConfig = {MathJaxConfig: 'local'};</script>\n",
              "        <script src=\"https://cdn.plot.ly/plotly-2.8.3.min.js\"></script>                <div id=\"361c7431-2190-488d-9596-ad9c41f942fb\" class=\"plotly-graph-div\" style=\"height:525px; width:100%;\"></div>            <script type=\"text/javascript\">                                    window.PLOTLYENV=window.PLOTLYENV || {};                                    if (document.getElementById(\"361c7431-2190-488d-9596-ad9c41f942fb\")) {                    Plotly.newPlot(                        \"361c7431-2190-488d-9596-ad9c41f942fb\",                        [{\"hovertemplate\":\"Date=%{x}<br>Nombre_de_likes=%{y}<extra></extra>\",\"legendgroup\":\"\",\"line\":{\"color\":\"#636efa\",\"dash\":\"solid\"},\"marker\":{\"symbol\":\"circle\"},\"mode\":\"lines\",\"name\":\"\",\"orientation\":\"v\",\"showlegend\":false,\"x\":[\"2022-02-09T08:24:05\",\"2022-02-09T12:15:11\",\"2022-02-09T17:15:04\",\"2022-02-10T08:26:43\",\"2022-02-10T12:12:09\",\"2022-02-10T17:43:45\",\"2022-02-11T10:38:32\",\"2022-02-11T14:30:55\",\"2022-02-11T17:31:53\",\"2022-02-12T08:04:20\",\"2022-02-12T12:07:43\",\"2022-02-12T17:23:14\"],\"xaxis\":\"x\",\"y\":[31597,58989,23447,19922,90531,17251,20160,19465,29427,14587,27212,4171],\"yaxis\":\"y\",\"type\":\"scatter\"}],                        {\"template\":{\"data\":{\"bar\":[{\"error_x\":{\"color\":\"#2a3f5f\"},\"error_y\":{\"color\":\"#2a3f5f\"},\"marker\":{\"line\":{\"color\":\"#E5ECF6\",\"width\":0.5},\"pattern\":{\"fillmode\":\"overlay\",\"size\":10,\"solidity\":0.2}},\"type\":\"bar\"}],\"barpolar\":[{\"marker\":{\"line\":{\"color\":\"#E5ECF6\",\"width\":0.5},\"pattern\":{\"fillmode\":\"overlay\",\"size\":10,\"solidity\":0.2}},\"type\":\"barpolar\"}],\"carpet\":[{\"aaxis\":{\"endlinecolor\":\"#2a3f5f\",\"gridcolor\":\"white\",\"linecolor\":\"white\",\"minorgridcolor\":\"white\",\"startlinecolor\":\"#2a3f5f\"},\"baxis\":{\"endlinecolor\":\"#2a3f5f\",\"gridcolor\":\"white\",\"linecolor\":\"white\",\"minorgridcolor\":\"white\",\"startlinecolor\":\"#2a3f5f\"},\"type\":\"carpet\"}],\"choropleth\":[{\"colorbar\":{\"outlinewidth\":0,\"ticks\":\"\"},\"type\":\"choropleth\"}],\"contour\":[{\"colorbar\":{\"outlinewidth\":0,\"ticks\":\"\"},\"colorscale\":[[0.0,\"#0d0887\"],[0.1111111111111111,\"#46039f\"],[0.2222222222222222,\"#7201a8\"],[0.3333333333333333,\"#9c179e\"],[0.4444444444444444,\"#bd3786\"],[0.5555555555555556,\"#d8576b\"],[0.6666666666666666,\"#ed7953\"],[0.7777777777777778,\"#fb9f3a\"],[0.8888888888888888,\"#fdca26\"],[1.0,\"#f0f921\"]],\"type\":\"contour\"}],\"contourcarpet\":[{\"colorbar\":{\"outlinewidth\":0,\"ticks\":\"\"},\"type\":\"contourcarpet\"}],\"heatmap\":[{\"colorbar\":{\"outlinewidth\":0,\"ticks\":\"\"},\"colorscale\":[[0.0,\"#0d0887\"],[0.1111111111111111,\"#46039f\"],[0.2222222222222222,\"#7201a8\"],[0.3333333333333333,\"#9c179e\"],[0.4444444444444444,\"#bd3786\"],[0.5555555555555556,\"#d8576b\"],[0.6666666666666666,\"#ed7953\"],[0.7777777777777778,\"#fb9f3a\"],[0.8888888888888888,\"#fdca26\"],[1.0,\"#f0f921\"]],\"type\":\"heatmap\"}],\"heatmapgl\":[{\"colorbar\":{\"outlinewidth\":0,\"ticks\":\"\"},\"colorscale\":[[0.0,\"#0d0887\"],[0.1111111111111111,\"#46039f\"],[0.2222222222222222,\"#7201a8\"],[0.3333333333333333,\"#9c179e\"],[0.4444444444444444,\"#bd3786\"],[0.5555555555555556,\"#d8576b\"],[0.6666666666666666,\"#ed7953\"],[0.7777777777777778,\"#fb9f3a\"],[0.8888888888888888,\"#fdca26\"],[1.0,\"#f0f921\"]],\"type\":\"heatmapgl\"}],\"histogram\":[{\"marker\":{\"pattern\":{\"fillmode\":\"overlay\",\"size\":10,\"solidity\":0.2}},\"type\":\"histogram\"}],\"histogram2d\":[{\"colorbar\":{\"outlinewidth\":0,\"ticks\":\"\"},\"colorscale\":[[0.0,\"#0d0887\"],[0.1111111111111111,\"#46039f\"],[0.2222222222222222,\"#7201a8\"],[0.3333333333333333,\"#9c179e\"],[0.4444444444444444,\"#bd3786\"],[0.5555555555555556,\"#d8576b\"],[0.6666666666666666,\"#ed7953\"],[0.7777777777777778,\"#fb9f3a\"],[0.8888888888888888,\"#fdca26\"],[1.0,\"#f0f921\"]],\"type\":\"histogram2d\"}],\"histogram2dcontour\":[{\"colorbar\":{\"outlinewidth\":0,\"ticks\":\"\"},\"colorscale\":[[0.0,\"#0d0887\"],[0.1111111111111111,\"#46039f\"],[0.2222222222222222,\"#7201a8\"],[0.3333333333333333,\"#9c179e\"],[0.4444444444444444,\"#bd3786\"],[0.5555555555555556,\"#d8576b\"],[0.6666666666666666,\"#ed7953\"],[0.7777777777777778,\"#fb9f3a\"],[0.8888888888888888,\"#fdca26\"],[1.0,\"#f0f921\"]],\"type\":\"histogram2dcontour\"}],\"mesh3d\":[{\"colorbar\":{\"outlinewidth\":0,\"ticks\":\"\"},\"type\":\"mesh3d\"}],\"parcoords\":[{\"line\":{\"colorbar\":{\"outlinewidth\":0,\"ticks\":\"\"}},\"type\":\"parcoords\"}],\"pie\":[{\"automargin\":true,\"type\":\"pie\"}],\"scatter\":[{\"marker\":{\"colorbar\":{\"outlinewidth\":0,\"ticks\":\"\"}},\"type\":\"scatter\"}],\"scatter3d\":[{\"line\":{\"colorbar\":{\"outlinewidth\":0,\"ticks\":\"\"}},\"marker\":{\"colorbar\":{\"outlinewidth\":0,\"ticks\":\"\"}},\"type\":\"scatter3d\"}],\"scattercarpet\":[{\"marker\":{\"colorbar\":{\"outlinewidth\":0,\"ticks\":\"\"}},\"type\":\"scattercarpet\"}],\"scattergeo\":[{\"marker\":{\"colorbar\":{\"outlinewidth\":0,\"ticks\":\"\"}},\"type\":\"scattergeo\"}],\"scattergl\":[{\"marker\":{\"colorbar\":{\"outlinewidth\":0,\"ticks\":\"\"}},\"type\":\"scattergl\"}],\"scattermapbox\":[{\"marker\":{\"colorbar\":{\"outlinewidth\":0,\"ticks\":\"\"}},\"type\":\"scattermapbox\"}],\"scatterpolar\":[{\"marker\":{\"colorbar\":{\"outlinewidth\":0,\"ticks\":\"\"}},\"type\":\"scatterpolar\"}],\"scatterpolargl\":[{\"marker\":{\"colorbar\":{\"outlinewidth\":0,\"ticks\":\"\"}},\"type\":\"scatterpolargl\"}],\"scatterternary\":[{\"marker\":{\"colorbar\":{\"outlinewidth\":0,\"ticks\":\"\"}},\"type\":\"scatterternary\"}],\"surface\":[{\"colorbar\":{\"outlinewidth\":0,\"ticks\":\"\"},\"colorscale\":[[0.0,\"#0d0887\"],[0.1111111111111111,\"#46039f\"],[0.2222222222222222,\"#7201a8\"],[0.3333333333333333,\"#9c179e\"],[0.4444444444444444,\"#bd3786\"],[0.5555555555555556,\"#d8576b\"],[0.6666666666666666,\"#ed7953\"],[0.7777777777777778,\"#fb9f3a\"],[0.8888888888888888,\"#fdca26\"],[1.0,\"#f0f921\"]],\"type\":\"surface\"}],\"table\":[{\"cells\":{\"fill\":{\"color\":\"#EBF0F8\"},\"line\":{\"color\":\"white\"}},\"header\":{\"fill\":{\"color\":\"#C8D4E3\"},\"line\":{\"color\":\"white\"}},\"type\":\"table\"}]},\"layout\":{\"annotationdefaults\":{\"arrowcolor\":\"#2a3f5f\",\"arrowhead\":0,\"arrowwidth\":1},\"autotypenumbers\":\"strict\",\"coloraxis\":{\"colorbar\":{\"outlinewidth\":0,\"ticks\":\"\"}},\"colorscale\":{\"diverging\":[[0,\"#8e0152\"],[0.1,\"#c51b7d\"],[0.2,\"#de77ae\"],[0.3,\"#f1b6da\"],[0.4,\"#fde0ef\"],[0.5,\"#f7f7f7\"],[0.6,\"#e6f5d0\"],[0.7,\"#b8e186\"],[0.8,\"#7fbc41\"],[0.9,\"#4d9221\"],[1,\"#276419\"]],\"sequential\":[[0.0,\"#0d0887\"],[0.1111111111111111,\"#46039f\"],[0.2222222222222222,\"#7201a8\"],[0.3333333333333333,\"#9c179e\"],[0.4444444444444444,\"#bd3786\"],[0.5555555555555556,\"#d8576b\"],[0.6666666666666666,\"#ed7953\"],[0.7777777777777778,\"#fb9f3a\"],[0.8888888888888888,\"#fdca26\"],[1.0,\"#f0f921\"]],\"sequentialminus\":[[0.0,\"#0d0887\"],[0.1111111111111111,\"#46039f\"],[0.2222222222222222,\"#7201a8\"],[0.3333333333333333,\"#9c179e\"],[0.4444444444444444,\"#bd3786\"],[0.5555555555555556,\"#d8576b\"],[0.6666666666666666,\"#ed7953\"],[0.7777777777777778,\"#fb9f3a\"],[0.8888888888888888,\"#fdca26\"],[1.0,\"#f0f921\"]]},\"colorway\":[\"#636efa\",\"#EF553B\",\"#00cc96\",\"#ab63fa\",\"#FFA15A\",\"#19d3f3\",\"#FF6692\",\"#B6E880\",\"#FF97FF\",\"#FECB52\"],\"font\":{\"color\":\"#2a3f5f\"},\"geo\":{\"bgcolor\":\"white\",\"lakecolor\":\"white\",\"landcolor\":\"#E5ECF6\",\"showlakes\":true,\"showland\":true,\"subunitcolor\":\"white\"},\"hoverlabel\":{\"align\":\"left\"},\"hovermode\":\"closest\",\"mapbox\":{\"style\":\"light\"},\"paper_bgcolor\":\"white\",\"plot_bgcolor\":\"#E5ECF6\",\"polar\":{\"angularaxis\":{\"gridcolor\":\"white\",\"linecolor\":\"white\",\"ticks\":\"\"},\"bgcolor\":\"#E5ECF6\",\"radialaxis\":{\"gridcolor\":\"white\",\"linecolor\":\"white\",\"ticks\":\"\"}},\"scene\":{\"xaxis\":{\"backgroundcolor\":\"#E5ECF6\",\"gridcolor\":\"white\",\"gridwidth\":2,\"linecolor\":\"white\",\"showbackground\":true,\"ticks\":\"\",\"zerolinecolor\":\"white\"},\"yaxis\":{\"backgroundcolor\":\"#E5ECF6\",\"gridcolor\":\"white\",\"gridwidth\":2,\"linecolor\":\"white\",\"showbackground\":true,\"ticks\":\"\",\"zerolinecolor\":\"white\"},\"zaxis\":{\"backgroundcolor\":\"#E5ECF6\",\"gridcolor\":\"white\",\"gridwidth\":2,\"linecolor\":\"white\",\"showbackground\":true,\"ticks\":\"\",\"zerolinecolor\":\"white\"}},\"shapedefaults\":{\"line\":{\"color\":\"#2a3f5f\"}},\"ternary\":{\"aaxis\":{\"gridcolor\":\"white\",\"linecolor\":\"white\",\"ticks\":\"\"},\"baxis\":{\"gridcolor\":\"white\",\"linecolor\":\"white\",\"ticks\":\"\"},\"bgcolor\":\"#E5ECF6\",\"caxis\":{\"gridcolor\":\"white\",\"linecolor\":\"white\",\"ticks\":\"\"}},\"title\":{\"x\":0.05},\"xaxis\":{\"automargin\":true,\"gridcolor\":\"white\",\"linecolor\":\"white\",\"ticks\":\"\",\"title\":{\"standoff\":15},\"zerolinecolor\":\"white\",\"zerolinewidth\":2},\"yaxis\":{\"automargin\":true,\"gridcolor\":\"white\",\"linecolor\":\"white\",\"ticks\":\"\",\"title\":{\"standoff\":15},\"zerolinecolor\":\"white\",\"zerolinewidth\":2}}},\"xaxis\":{\"anchor\":\"y\",\"domain\":[0.0,1.0],\"title\":{\"text\":\"Date\"}},\"yaxis\":{\"anchor\":\"x\",\"domain\":[0.0,1.0],\"title\":{\"text\":\"Nombre_de_likes\"}},\"legend\":{\"tracegroupgap\":0},\"title\":{\"text\":\"Nombre de likes\"}},                        {\"responsive\": true}                    ).then(function(){\n",
              "                            \n",
              "var gd = document.getElementById('361c7431-2190-488d-9596-ad9c41f942fb');\n",
              "var x = new MutationObserver(function (mutations, observer) {{\n",
              "        var display = window.getComputedStyle(gd).display;\n",
              "        if (!display || display === 'none') {{\n",
              "            console.log([gd, 'removed!']);\n",
              "            Plotly.purge(gd);\n",
              "            observer.disconnect();\n",
              "        }}\n",
              "}});\n",
              "\n",
              "// Listen for the removal of the full notebook cells\n",
              "var notebookContainer = gd.closest('#notebook-container');\n",
              "if (notebookContainer) {{\n",
              "    x.observe(notebookContainer, {childList: true});\n",
              "}}\n",
              "\n",
              "// Listen for the clearing of the current output cell\n",
              "var outputEl = gd.closest('.output');\n",
              "if (outputEl) {{\n",
              "    x.observe(outputEl, {childList: true});\n",
              "}}\n",
              "\n",
              "                        })                };                            </script>        </div>\n",
              "</body>\n",
              "</html>"
            ]
          },
          "metadata": {}
        }
      ]
    },
    {
      "cell_type": "code",
      "source": [
        "fig = px.scatter(df, x=\"Date\", y=\"Nombre_de_likes\",\n",
        "                 size='Nombre_de_commentaires')\n",
        "fig.show()"
      ],
      "metadata": {
        "colab": {
          "base_uri": "https://localhost:8080/",
          "height": 542
        },
        "id": "tnsq6I_CjsUJ",
        "outputId": "8cda6eab-64b8-4190-8c0c-7ecb6666d525"
      },
      "execution_count": null,
      "outputs": [
        {
          "output_type": "display_data",
          "data": {
            "text/html": [
              "<html>\n",
              "<head><meta charset=\"utf-8\" /></head>\n",
              "<body>\n",
              "    <div>            <script src=\"https://cdnjs.cloudflare.com/ajax/libs/mathjax/2.7.5/MathJax.js?config=TeX-AMS-MML_SVG\"></script><script type=\"text/javascript\">if (window.MathJax) {MathJax.Hub.Config({SVG: {font: \"STIX-Web\"}});}</script>                <script type=\"text/javascript\">window.PlotlyConfig = {MathJaxConfig: 'local'};</script>\n",
              "        <script src=\"https://cdn.plot.ly/plotly-2.8.3.min.js\"></script>                <div id=\"ee923089-ebf6-4299-ad5a-62b917de1dfb\" class=\"plotly-graph-div\" style=\"height:525px; width:100%;\"></div>            <script type=\"text/javascript\">                                    window.PLOTLYENV=window.PLOTLYENV || {};                                    if (document.getElementById(\"ee923089-ebf6-4299-ad5a-62b917de1dfb\")) {                    Plotly.newPlot(                        \"ee923089-ebf6-4299-ad5a-62b917de1dfb\",                        [{\"hovertemplate\":\"Date=%{x}<br>Nombre_de_likes=%{y}<br>Nombre_de_commentaires=%{marker.size}<extra></extra>\",\"legendgroup\":\"\",\"marker\":{\"color\":\"#636efa\",\"size\":[97,333,91,51,868,100,71,81,125,52,89,14],\"sizemode\":\"area\",\"sizeref\":2.17,\"symbol\":\"circle\"},\"mode\":\"markers\",\"name\":\"\",\"orientation\":\"v\",\"showlegend\":false,\"x\":[\"2022-02-09T08:24:05\",\"2022-02-09T12:15:11\",\"2022-02-09T17:15:04\",\"2022-02-10T08:26:43\",\"2022-02-10T12:12:09\",\"2022-02-10T17:43:45\",\"2022-02-11T10:38:32\",\"2022-02-11T14:30:55\",\"2022-02-11T17:31:53\",\"2022-02-12T08:04:20\",\"2022-02-12T12:07:43\",\"2022-02-12T17:23:14\"],\"xaxis\":\"x\",\"y\":[31597,58989,23447,19922,90531,17251,20160,19465,29427,14587,27212,4171],\"yaxis\":\"y\",\"type\":\"scatter\"}],                        {\"template\":{\"data\":{\"bar\":[{\"error_x\":{\"color\":\"#2a3f5f\"},\"error_y\":{\"color\":\"#2a3f5f\"},\"marker\":{\"line\":{\"color\":\"#E5ECF6\",\"width\":0.5},\"pattern\":{\"fillmode\":\"overlay\",\"size\":10,\"solidity\":0.2}},\"type\":\"bar\"}],\"barpolar\":[{\"marker\":{\"line\":{\"color\":\"#E5ECF6\",\"width\":0.5},\"pattern\":{\"fillmode\":\"overlay\",\"size\":10,\"solidity\":0.2}},\"type\":\"barpolar\"}],\"carpet\":[{\"aaxis\":{\"endlinecolor\":\"#2a3f5f\",\"gridcolor\":\"white\",\"linecolor\":\"white\",\"minorgridcolor\":\"white\",\"startlinecolor\":\"#2a3f5f\"},\"baxis\":{\"endlinecolor\":\"#2a3f5f\",\"gridcolor\":\"white\",\"linecolor\":\"white\",\"minorgridcolor\":\"white\",\"startlinecolor\":\"#2a3f5f\"},\"type\":\"carpet\"}],\"choropleth\":[{\"colorbar\":{\"outlinewidth\":0,\"ticks\":\"\"},\"type\":\"choropleth\"}],\"contour\":[{\"colorbar\":{\"outlinewidth\":0,\"ticks\":\"\"},\"colorscale\":[[0.0,\"#0d0887\"],[0.1111111111111111,\"#46039f\"],[0.2222222222222222,\"#7201a8\"],[0.3333333333333333,\"#9c179e\"],[0.4444444444444444,\"#bd3786\"],[0.5555555555555556,\"#d8576b\"],[0.6666666666666666,\"#ed7953\"],[0.7777777777777778,\"#fb9f3a\"],[0.8888888888888888,\"#fdca26\"],[1.0,\"#f0f921\"]],\"type\":\"contour\"}],\"contourcarpet\":[{\"colorbar\":{\"outlinewidth\":0,\"ticks\":\"\"},\"type\":\"contourcarpet\"}],\"heatmap\":[{\"colorbar\":{\"outlinewidth\":0,\"ticks\":\"\"},\"colorscale\":[[0.0,\"#0d0887\"],[0.1111111111111111,\"#46039f\"],[0.2222222222222222,\"#7201a8\"],[0.3333333333333333,\"#9c179e\"],[0.4444444444444444,\"#bd3786\"],[0.5555555555555556,\"#d8576b\"],[0.6666666666666666,\"#ed7953\"],[0.7777777777777778,\"#fb9f3a\"],[0.8888888888888888,\"#fdca26\"],[1.0,\"#f0f921\"]],\"type\":\"heatmap\"}],\"heatmapgl\":[{\"colorbar\":{\"outlinewidth\":0,\"ticks\":\"\"},\"colorscale\":[[0.0,\"#0d0887\"],[0.1111111111111111,\"#46039f\"],[0.2222222222222222,\"#7201a8\"],[0.3333333333333333,\"#9c179e\"],[0.4444444444444444,\"#bd3786\"],[0.5555555555555556,\"#d8576b\"],[0.6666666666666666,\"#ed7953\"],[0.7777777777777778,\"#fb9f3a\"],[0.8888888888888888,\"#fdca26\"],[1.0,\"#f0f921\"]],\"type\":\"heatmapgl\"}],\"histogram\":[{\"marker\":{\"pattern\":{\"fillmode\":\"overlay\",\"size\":10,\"solidity\":0.2}},\"type\":\"histogram\"}],\"histogram2d\":[{\"colorbar\":{\"outlinewidth\":0,\"ticks\":\"\"},\"colorscale\":[[0.0,\"#0d0887\"],[0.1111111111111111,\"#46039f\"],[0.2222222222222222,\"#7201a8\"],[0.3333333333333333,\"#9c179e\"],[0.4444444444444444,\"#bd3786\"],[0.5555555555555556,\"#d8576b\"],[0.6666666666666666,\"#ed7953\"],[0.7777777777777778,\"#fb9f3a\"],[0.8888888888888888,\"#fdca26\"],[1.0,\"#f0f921\"]],\"type\":\"histogram2d\"}],\"histogram2dcontour\":[{\"colorbar\":{\"outlinewidth\":0,\"ticks\":\"\"},\"colorscale\":[[0.0,\"#0d0887\"],[0.1111111111111111,\"#46039f\"],[0.2222222222222222,\"#7201a8\"],[0.3333333333333333,\"#9c179e\"],[0.4444444444444444,\"#bd3786\"],[0.5555555555555556,\"#d8576b\"],[0.6666666666666666,\"#ed7953\"],[0.7777777777777778,\"#fb9f3a\"],[0.8888888888888888,\"#fdca26\"],[1.0,\"#f0f921\"]],\"type\":\"histogram2dcontour\"}],\"mesh3d\":[{\"colorbar\":{\"outlinewidth\":0,\"ticks\":\"\"},\"type\":\"mesh3d\"}],\"parcoords\":[{\"line\":{\"colorbar\":{\"outlinewidth\":0,\"ticks\":\"\"}},\"type\":\"parcoords\"}],\"pie\":[{\"automargin\":true,\"type\":\"pie\"}],\"scatter\":[{\"marker\":{\"colorbar\":{\"outlinewidth\":0,\"ticks\":\"\"}},\"type\":\"scatter\"}],\"scatter3d\":[{\"line\":{\"colorbar\":{\"outlinewidth\":0,\"ticks\":\"\"}},\"marker\":{\"colorbar\":{\"outlinewidth\":0,\"ticks\":\"\"}},\"type\":\"scatter3d\"}],\"scattercarpet\":[{\"marker\":{\"colorbar\":{\"outlinewidth\":0,\"ticks\":\"\"}},\"type\":\"scattercarpet\"}],\"scattergeo\":[{\"marker\":{\"colorbar\":{\"outlinewidth\":0,\"ticks\":\"\"}},\"type\":\"scattergeo\"}],\"scattergl\":[{\"marker\":{\"colorbar\":{\"outlinewidth\":0,\"ticks\":\"\"}},\"type\":\"scattergl\"}],\"scattermapbox\":[{\"marker\":{\"colorbar\":{\"outlinewidth\":0,\"ticks\":\"\"}},\"type\":\"scattermapbox\"}],\"scatterpolar\":[{\"marker\":{\"colorbar\":{\"outlinewidth\":0,\"ticks\":\"\"}},\"type\":\"scatterpolar\"}],\"scatterpolargl\":[{\"marker\":{\"colorbar\":{\"outlinewidth\":0,\"ticks\":\"\"}},\"type\":\"scatterpolargl\"}],\"scatterternary\":[{\"marker\":{\"colorbar\":{\"outlinewidth\":0,\"ticks\":\"\"}},\"type\":\"scatterternary\"}],\"surface\":[{\"colorbar\":{\"outlinewidth\":0,\"ticks\":\"\"},\"colorscale\":[[0.0,\"#0d0887\"],[0.1111111111111111,\"#46039f\"],[0.2222222222222222,\"#7201a8\"],[0.3333333333333333,\"#9c179e\"],[0.4444444444444444,\"#bd3786\"],[0.5555555555555556,\"#d8576b\"],[0.6666666666666666,\"#ed7953\"],[0.7777777777777778,\"#fb9f3a\"],[0.8888888888888888,\"#fdca26\"],[1.0,\"#f0f921\"]],\"type\":\"surface\"}],\"table\":[{\"cells\":{\"fill\":{\"color\":\"#EBF0F8\"},\"line\":{\"color\":\"white\"}},\"header\":{\"fill\":{\"color\":\"#C8D4E3\"},\"line\":{\"color\":\"white\"}},\"type\":\"table\"}]},\"layout\":{\"annotationdefaults\":{\"arrowcolor\":\"#2a3f5f\",\"arrowhead\":0,\"arrowwidth\":1},\"autotypenumbers\":\"strict\",\"coloraxis\":{\"colorbar\":{\"outlinewidth\":0,\"ticks\":\"\"}},\"colorscale\":{\"diverging\":[[0,\"#8e0152\"],[0.1,\"#c51b7d\"],[0.2,\"#de77ae\"],[0.3,\"#f1b6da\"],[0.4,\"#fde0ef\"],[0.5,\"#f7f7f7\"],[0.6,\"#e6f5d0\"],[0.7,\"#b8e186\"],[0.8,\"#7fbc41\"],[0.9,\"#4d9221\"],[1,\"#276419\"]],\"sequential\":[[0.0,\"#0d0887\"],[0.1111111111111111,\"#46039f\"],[0.2222222222222222,\"#7201a8\"],[0.3333333333333333,\"#9c179e\"],[0.4444444444444444,\"#bd3786\"],[0.5555555555555556,\"#d8576b\"],[0.6666666666666666,\"#ed7953\"],[0.7777777777777778,\"#fb9f3a\"],[0.8888888888888888,\"#fdca26\"],[1.0,\"#f0f921\"]],\"sequentialminus\":[[0.0,\"#0d0887\"],[0.1111111111111111,\"#46039f\"],[0.2222222222222222,\"#7201a8\"],[0.3333333333333333,\"#9c179e\"],[0.4444444444444444,\"#bd3786\"],[0.5555555555555556,\"#d8576b\"],[0.6666666666666666,\"#ed7953\"],[0.7777777777777778,\"#fb9f3a\"],[0.8888888888888888,\"#fdca26\"],[1.0,\"#f0f921\"]]},\"colorway\":[\"#636efa\",\"#EF553B\",\"#00cc96\",\"#ab63fa\",\"#FFA15A\",\"#19d3f3\",\"#FF6692\",\"#B6E880\",\"#FF97FF\",\"#FECB52\"],\"font\":{\"color\":\"#2a3f5f\"},\"geo\":{\"bgcolor\":\"white\",\"lakecolor\":\"white\",\"landcolor\":\"#E5ECF6\",\"showlakes\":true,\"showland\":true,\"subunitcolor\":\"white\"},\"hoverlabel\":{\"align\":\"left\"},\"hovermode\":\"closest\",\"mapbox\":{\"style\":\"light\"},\"paper_bgcolor\":\"white\",\"plot_bgcolor\":\"#E5ECF6\",\"polar\":{\"angularaxis\":{\"gridcolor\":\"white\",\"linecolor\":\"white\",\"ticks\":\"\"},\"bgcolor\":\"#E5ECF6\",\"radialaxis\":{\"gridcolor\":\"white\",\"linecolor\":\"white\",\"ticks\":\"\"}},\"scene\":{\"xaxis\":{\"backgroundcolor\":\"#E5ECF6\",\"gridcolor\":\"white\",\"gridwidth\":2,\"linecolor\":\"white\",\"showbackground\":true,\"ticks\":\"\",\"zerolinecolor\":\"white\"},\"yaxis\":{\"backgroundcolor\":\"#E5ECF6\",\"gridcolor\":\"white\",\"gridwidth\":2,\"linecolor\":\"white\",\"showbackground\":true,\"ticks\":\"\",\"zerolinecolor\":\"white\"},\"zaxis\":{\"backgroundcolor\":\"#E5ECF6\",\"gridcolor\":\"white\",\"gridwidth\":2,\"linecolor\":\"white\",\"showbackground\":true,\"ticks\":\"\",\"zerolinecolor\":\"white\"}},\"shapedefaults\":{\"line\":{\"color\":\"#2a3f5f\"}},\"ternary\":{\"aaxis\":{\"gridcolor\":\"white\",\"linecolor\":\"white\",\"ticks\":\"\"},\"baxis\":{\"gridcolor\":\"white\",\"linecolor\":\"white\",\"ticks\":\"\"},\"bgcolor\":\"#E5ECF6\",\"caxis\":{\"gridcolor\":\"white\",\"linecolor\":\"white\",\"ticks\":\"\"}},\"title\":{\"x\":0.05},\"xaxis\":{\"automargin\":true,\"gridcolor\":\"white\",\"linecolor\":\"white\",\"ticks\":\"\",\"title\":{\"standoff\":15},\"zerolinecolor\":\"white\",\"zerolinewidth\":2},\"yaxis\":{\"automargin\":true,\"gridcolor\":\"white\",\"linecolor\":\"white\",\"ticks\":\"\",\"title\":{\"standoff\":15},\"zerolinecolor\":\"white\",\"zerolinewidth\":2}}},\"xaxis\":{\"anchor\":\"y\",\"domain\":[0.0,1.0],\"title\":{\"text\":\"Date\"}},\"yaxis\":{\"anchor\":\"x\",\"domain\":[0.0,1.0],\"title\":{\"text\":\"Nombre_de_likes\"}},\"legend\":{\"tracegroupgap\":0,\"itemsizing\":\"constant\"},\"margin\":{\"t\":60}},                        {\"responsive\": true}                    ).then(function(){\n",
              "                            \n",
              "var gd = document.getElementById('ee923089-ebf6-4299-ad5a-62b917de1dfb');\n",
              "var x = new MutationObserver(function (mutations, observer) {{\n",
              "        var display = window.getComputedStyle(gd).display;\n",
              "        if (!display || display === 'none') {{\n",
              "            console.log([gd, 'removed!']);\n",
              "            Plotly.purge(gd);\n",
              "            observer.disconnect();\n",
              "        }}\n",
              "}});\n",
              "\n",
              "// Listen for the removal of the full notebook cells\n",
              "var notebookContainer = gd.closest('#notebook-container');\n",
              "if (notebookContainer) {{\n",
              "    x.observe(notebookContainer, {childList: true});\n",
              "}}\n",
              "\n",
              "// Listen for the clearing of the current output cell\n",
              "var outputEl = gd.closest('.output');\n",
              "if (outputEl) {{\n",
              "    x.observe(outputEl, {childList: true});\n",
              "}}\n",
              "\n",
              "                        })                };                            </script>        </div>\n",
              "</body>\n",
              "</html>"
            ]
          },
          "metadata": {}
        }
      ]
    },
    {
      "cell_type": "code",
      "source": [
        "import numpy as np\n",
        "avg = sum(df['Nombre_de_likes'])/len(df['Nombre_de_likes'])\n",
        "print('le nombre de likes moyen est de :', avg)\n",
        "\n",
        "sigma = np.std(df['Nombre_de_likes'])\n",
        "print('l écart-type moyen est de : ', sigma)\n",
        "\n",
        "avg1 = sum(df['Nombre_de_commentaires'])/len(df['Nombre_de_commentaires'])\n",
        "print('\\nle nombre de commentaires moyen est de :', avg1)\n",
        "\n",
        "sigma1 = np.std(df['Nombre_de_commentaires'])\n",
        "print('l écart-type moyen est de : ', sigma1)"
      ],
      "metadata": {
        "id": "1q38ER6yjyNC",
        "colab": {
          "base_uri": "https://localhost:8080/"
        },
        "outputId": "9a2cf3f1-559a-4c4b-856f-9032772cb08c"
      },
      "execution_count": null,
      "outputs": [
        {
          "output_type": "stream",
          "name": "stdout",
          "text": [
            "le nombre de likes moyen est de : 29729.916666666668\n",
            "l écart-type moyen est de :  22236.78437656223\n",
            "\n",
            "le nombre de commentaires moyen est de : 164.33333333333334\n",
            "l écart-type moyen est de :  225.20114465862636\n"
          ]
        }
      ]
    },
    {
      "cell_type": "code",
      "source": [],
      "metadata": {
        "id": "nXrqwk_xlPJ-"
      },
      "execution_count": null,
      "outputs": []
    }
  ]
}